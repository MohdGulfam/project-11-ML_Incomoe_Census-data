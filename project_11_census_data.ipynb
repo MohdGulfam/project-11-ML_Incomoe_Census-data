{
  "nbformat": 4,
  "nbformat_minor": 0,
  "metadata": {
    "kernelspec": {
      "display_name": "Python 3",
      "language": "python",
      "name": "python3"
    },
    "language_info": {
      "codemirror_mode": {
        "name": "ipython",
        "version": 3
      },
      "file_extension": ".py",
      "mimetype": "text/x-python",
      "name": "python",
      "nbconvert_exporter": "python",
      "pygments_lexer": "ipython3",
      "version": "3.7.6"
    },
    "colab": {
      "name": "project-11 census data.ipynb",
      "provenance": [],
      "collapsed_sections": []
    }
  },
  "cells": [
    {
      "cell_type": "code",
      "metadata": {
        "colab": {
          "base_uri": "https://localhost:8080/"
        },
        "id": "J3M3I7A2TXsD",
        "outputId": "7e573586-9dba-4fea-cad0-1e32bf1f678e"
      },
      "source": [
        "from google.colab import drive\n",
        "drive.mount('/content/drive')"
      ],
      "execution_count": 98,
      "outputs": [
        {
          "output_type": "stream",
          "text": [
            "Drive already mounted at /content/drive; to attempt to forcibly remount, call drive.mount(\"/content/drive\", force_remount=True).\n"
          ],
          "name": "stdout"
        }
      ]
    },
    {
      "cell_type": "code",
      "metadata": {
        "id": "2sRPLjDBTEPC"
      },
      "source": [
        "#Import The Necessary Library\n",
        "from sklearn.metrics import confusion_matrix,classification_report\n",
        "from sklearn.model_selection import train_test_split\n",
        "from sklearn.metrics import accuracy_score\n",
        "from sklearn.model_selection import cross_val_score#cross validation \n",
        "from sklearn.model_selection import cross_val_predict\n",
        "import matplotlib.pyplot as plt\n",
        "import seaborn as sns\n",
        "import pandas as pd\n",
        "import numpy as np\n",
        "import warnings\n",
        "%matplotlib inline\n",
        "warnings.filterwarnings('ignore')"
      ],
      "execution_count": 99,
      "outputs": []
    },
    {
      "cell_type": "code",
      "metadata": {
        "id": "v9d2IUyX-ye5"
      },
      "source": [
        "#Load The Dataset That is on .CSV FIle \n",
        "data=pd.read_csv('/content/drive/MyDrive/project/Dataset/census.csv')"
      ],
      "execution_count": 100,
      "outputs": []
    },
    {
      "cell_type": "code",
      "metadata": {
        "id": "E9FtTIq--yfB",
        "colab": {
          "base_uri": "https://localhost:8080/",
          "height": 306
        },
        "outputId": "f4de5576-0e42-4707-f1f6-0c7280cff325"
      },
      "source": [
        "#Head() Is Used the Show the first 5 Rows Of the Dataset \n",
        "data.head()"
      ],
      "execution_count": 101,
      "outputs": [
        {
          "output_type": "execute_result",
          "data": {
            "text/html": [
              "<div>\n",
              "<style scoped>\n",
              "    .dataframe tbody tr th:only-of-type {\n",
              "        vertical-align: middle;\n",
              "    }\n",
              "\n",
              "    .dataframe tbody tr th {\n",
              "        vertical-align: top;\n",
              "    }\n",
              "\n",
              "    .dataframe thead th {\n",
              "        text-align: right;\n",
              "    }\n",
              "</style>\n",
              "<table border=\"1\" class=\"dataframe\">\n",
              "  <thead>\n",
              "    <tr style=\"text-align: right;\">\n",
              "      <th></th>\n",
              "      <th>age</th>\n",
              "      <th>workclass</th>\n",
              "      <th>fnlwgt</th>\n",
              "      <th>education</th>\n",
              "      <th>education-num</th>\n",
              "      <th>marital-status</th>\n",
              "      <th>occupation</th>\n",
              "      <th>relationship</th>\n",
              "      <th>race</th>\n",
              "      <th>sex</th>\n",
              "      <th>capital-gain</th>\n",
              "      <th>capital-loss</th>\n",
              "      <th>hours-per-week</th>\n",
              "      <th>native-country</th>\n",
              "      <th>income</th>\n",
              "    </tr>\n",
              "  </thead>\n",
              "  <tbody>\n",
              "    <tr>\n",
              "      <th>0</th>\n",
              "      <td>25</td>\n",
              "      <td>Private</td>\n",
              "      <td>226802</td>\n",
              "      <td>11th</td>\n",
              "      <td>7</td>\n",
              "      <td>Never-married</td>\n",
              "      <td>Machine-op-inspct</td>\n",
              "      <td>Own-child</td>\n",
              "      <td>Black</td>\n",
              "      <td>Male</td>\n",
              "      <td>0</td>\n",
              "      <td>0</td>\n",
              "      <td>40</td>\n",
              "      <td>United-States</td>\n",
              "      <td>&lt;=50K</td>\n",
              "    </tr>\n",
              "    <tr>\n",
              "      <th>1</th>\n",
              "      <td>38</td>\n",
              "      <td>Private</td>\n",
              "      <td>89814</td>\n",
              "      <td>HS-grad</td>\n",
              "      <td>9</td>\n",
              "      <td>Married-civ-spouse</td>\n",
              "      <td>Farming-fishing</td>\n",
              "      <td>Husband</td>\n",
              "      <td>White</td>\n",
              "      <td>Male</td>\n",
              "      <td>0</td>\n",
              "      <td>0</td>\n",
              "      <td>50</td>\n",
              "      <td>United-States</td>\n",
              "      <td>&lt;=50K</td>\n",
              "    </tr>\n",
              "    <tr>\n",
              "      <th>2</th>\n",
              "      <td>28</td>\n",
              "      <td>Local-gov</td>\n",
              "      <td>336951</td>\n",
              "      <td>Assoc-acdm</td>\n",
              "      <td>12</td>\n",
              "      <td>Married-civ-spouse</td>\n",
              "      <td>Protective-serv</td>\n",
              "      <td>Husband</td>\n",
              "      <td>White</td>\n",
              "      <td>Male</td>\n",
              "      <td>0</td>\n",
              "      <td>0</td>\n",
              "      <td>40</td>\n",
              "      <td>United-States</td>\n",
              "      <td>&gt;50K</td>\n",
              "    </tr>\n",
              "    <tr>\n",
              "      <th>3</th>\n",
              "      <td>44</td>\n",
              "      <td>Private</td>\n",
              "      <td>160323</td>\n",
              "      <td>Some-college</td>\n",
              "      <td>10</td>\n",
              "      <td>Married-civ-spouse</td>\n",
              "      <td>Machine-op-inspct</td>\n",
              "      <td>Husband</td>\n",
              "      <td>Black</td>\n",
              "      <td>Male</td>\n",
              "      <td>7688</td>\n",
              "      <td>0</td>\n",
              "      <td>40</td>\n",
              "      <td>United-States</td>\n",
              "      <td>&gt;50K</td>\n",
              "    </tr>\n",
              "    <tr>\n",
              "      <th>4</th>\n",
              "      <td>18</td>\n",
              "      <td>?</td>\n",
              "      <td>103497</td>\n",
              "      <td>Some-college</td>\n",
              "      <td>10</td>\n",
              "      <td>Never-married</td>\n",
              "      <td>?</td>\n",
              "      <td>Own-child</td>\n",
              "      <td>White</td>\n",
              "      <td>Female</td>\n",
              "      <td>0</td>\n",
              "      <td>0</td>\n",
              "      <td>30</td>\n",
              "      <td>United-States</td>\n",
              "      <td>&lt;=50K</td>\n",
              "    </tr>\n",
              "  </tbody>\n",
              "</table>\n",
              "</div>"
            ],
            "text/plain": [
              "   age  workclass  fnlwgt  ... hours-per-week  native-country income\n",
              "0   25    Private  226802  ...             40   United-States  <=50K\n",
              "1   38    Private   89814  ...             50   United-States  <=50K\n",
              "2   28  Local-gov  336951  ...             40   United-States   >50K\n",
              "3   44    Private  160323  ...             40   United-States   >50K\n",
              "4   18          ?  103497  ...             30   United-States  <=50K\n",
              "\n",
              "[5 rows x 15 columns]"
            ]
          },
          "metadata": {
            "tags": []
          },
          "execution_count": 101
        }
      ]
    },
    {
      "cell_type": "code",
      "metadata": {
        "id": "eqohIe7I-yfG",
        "colab": {
          "base_uri": "https://localhost:8080/"
        },
        "outputId": "23399375-ea47-472b-b0a1-9d141402af30"
      },
      "source": [
        "#Check The Shape Of The Dataset \n",
        "data.shape"
      ],
      "execution_count": 102,
      "outputs": [
        {
          "output_type": "execute_result",
          "data": {
            "text/plain": [
              "(48842, 15)"
            ]
          },
          "metadata": {
            "tags": []
          },
          "execution_count": 102
        }
      ]
    },
    {
      "cell_type": "code",
      "metadata": {
        "id": "rAiNFtEl-yfL",
        "colab": {
          "base_uri": "https://localhost:8080/"
        },
        "outputId": "a3e72a0e-dfd8-4555-8dc0-a2ecbe6de01f"
      },
      "source": [
        "#Check the Keys that have in dataset \n",
        "data.keys()"
      ],
      "execution_count": 103,
      "outputs": [
        {
          "output_type": "execute_result",
          "data": {
            "text/plain": [
              "Index(['age', 'workclass', 'fnlwgt', 'education', 'education-num',\n",
              "       'marital-status', 'occupation', 'relationship', 'race', 'sex',\n",
              "       'capital-gain', 'capital-loss', 'hours-per-week', 'native-country',\n",
              "       'income'],\n",
              "      dtype='object')"
            ]
          },
          "metadata": {
            "tags": []
          },
          "execution_count": 103
        }
      ]
    },
    {
      "cell_type": "code",
      "metadata": {
        "id": "-zQqluTv-yfR",
        "colab": {
          "base_uri": "https://localhost:8080/"
        },
        "outputId": "6abfbef3-f5d9-4d74-a534-c89ca8510f0d"
      },
      "source": [
        "#Check  the datatyes For the Feature \n",
        "data.dtypes"
      ],
      "execution_count": 104,
      "outputs": [
        {
          "output_type": "execute_result",
          "data": {
            "text/plain": [
              "age                int64\n",
              "workclass         object\n",
              "fnlwgt             int64\n",
              "education         object\n",
              "education-num      int64\n",
              "marital-status    object\n",
              "occupation        object\n",
              "relationship      object\n",
              "race              object\n",
              "sex               object\n",
              "capital-gain       int64\n",
              "capital-loss       int64\n",
              "hours-per-week     int64\n",
              "native-country    object\n",
              "income            object\n",
              "dtype: object"
            ]
          },
          "metadata": {
            "tags": []
          },
          "execution_count": 104
        }
      ]
    },
    {
      "cell_type": "code",
      "metadata": {
        "id": "QN1jD9s7-yfW",
        "colab": {
          "base_uri": "https://localhost:8080/"
        },
        "outputId": "9acc8494-c681-480c-e17d-69d6fdc9107c"
      },
      "source": [
        "#Check info of dataset that have object or int\n",
        "data.info()"
      ],
      "execution_count": 105,
      "outputs": [
        {
          "output_type": "stream",
          "text": [
            "<class 'pandas.core.frame.DataFrame'>\n",
            "RangeIndex: 48842 entries, 0 to 48841\n",
            "Data columns (total 15 columns):\n",
            " #   Column          Non-Null Count  Dtype \n",
            "---  ------          --------------  ----- \n",
            " 0   age             48842 non-null  int64 \n",
            " 1   workclass       48842 non-null  object\n",
            " 2   fnlwgt          48842 non-null  int64 \n",
            " 3   education       48842 non-null  object\n",
            " 4   education-num   48842 non-null  int64 \n",
            " 5   marital-status  48842 non-null  object\n",
            " 6   occupation      48842 non-null  object\n",
            " 7   relationship    48842 non-null  object\n",
            " 8   race            48842 non-null  object\n",
            " 9   sex             48842 non-null  object\n",
            " 10  capital-gain    48842 non-null  int64 \n",
            " 11  capital-loss    48842 non-null  int64 \n",
            " 12  hours-per-week  48842 non-null  int64 \n",
            " 13  native-country  48842 non-null  object\n",
            " 14  income          48842 non-null  object\n",
            "dtypes: int64(6), object(9)\n",
            "memory usage: 5.6+ MB\n"
          ],
          "name": "stdout"
        }
      ]
    },
    {
      "cell_type": "markdown",
      "metadata": {
        "id": "3NWxqlWxZC0k"
      },
      "source": [
        "Data Cleaning "
      ]
    },
    {
      "cell_type": "code",
      "metadata": {
        "id": "rzYDXBUfANqm"
      },
      "source": [
        "#Change the ? With nan value \n",
        "data=data.replace('?',np.nan)"
      ],
      "execution_count": 106,
      "outputs": []
    },
    {
      "cell_type": "code",
      "metadata": {
        "id": "VZOyIs-DAXO7",
        "colab": {
          "base_uri": "https://localhost:8080/",
          "height": 306
        },
        "outputId": "87aa5105-7d41-4758-89f7-8a9c3f068144"
      },
      "source": [
        "data.head()"
      ],
      "execution_count": 107,
      "outputs": [
        {
          "output_type": "execute_result",
          "data": {
            "text/html": [
              "<div>\n",
              "<style scoped>\n",
              "    .dataframe tbody tr th:only-of-type {\n",
              "        vertical-align: middle;\n",
              "    }\n",
              "\n",
              "    .dataframe tbody tr th {\n",
              "        vertical-align: top;\n",
              "    }\n",
              "\n",
              "    .dataframe thead th {\n",
              "        text-align: right;\n",
              "    }\n",
              "</style>\n",
              "<table border=\"1\" class=\"dataframe\">\n",
              "  <thead>\n",
              "    <tr style=\"text-align: right;\">\n",
              "      <th></th>\n",
              "      <th>age</th>\n",
              "      <th>workclass</th>\n",
              "      <th>fnlwgt</th>\n",
              "      <th>education</th>\n",
              "      <th>education-num</th>\n",
              "      <th>marital-status</th>\n",
              "      <th>occupation</th>\n",
              "      <th>relationship</th>\n",
              "      <th>race</th>\n",
              "      <th>sex</th>\n",
              "      <th>capital-gain</th>\n",
              "      <th>capital-loss</th>\n",
              "      <th>hours-per-week</th>\n",
              "      <th>native-country</th>\n",
              "      <th>income</th>\n",
              "    </tr>\n",
              "  </thead>\n",
              "  <tbody>\n",
              "    <tr>\n",
              "      <th>0</th>\n",
              "      <td>25</td>\n",
              "      <td>Private</td>\n",
              "      <td>226802</td>\n",
              "      <td>11th</td>\n",
              "      <td>7</td>\n",
              "      <td>Never-married</td>\n",
              "      <td>Machine-op-inspct</td>\n",
              "      <td>Own-child</td>\n",
              "      <td>Black</td>\n",
              "      <td>Male</td>\n",
              "      <td>0</td>\n",
              "      <td>0</td>\n",
              "      <td>40</td>\n",
              "      <td>United-States</td>\n",
              "      <td>&lt;=50K</td>\n",
              "    </tr>\n",
              "    <tr>\n",
              "      <th>1</th>\n",
              "      <td>38</td>\n",
              "      <td>Private</td>\n",
              "      <td>89814</td>\n",
              "      <td>HS-grad</td>\n",
              "      <td>9</td>\n",
              "      <td>Married-civ-spouse</td>\n",
              "      <td>Farming-fishing</td>\n",
              "      <td>Husband</td>\n",
              "      <td>White</td>\n",
              "      <td>Male</td>\n",
              "      <td>0</td>\n",
              "      <td>0</td>\n",
              "      <td>50</td>\n",
              "      <td>United-States</td>\n",
              "      <td>&lt;=50K</td>\n",
              "    </tr>\n",
              "    <tr>\n",
              "      <th>2</th>\n",
              "      <td>28</td>\n",
              "      <td>Local-gov</td>\n",
              "      <td>336951</td>\n",
              "      <td>Assoc-acdm</td>\n",
              "      <td>12</td>\n",
              "      <td>Married-civ-spouse</td>\n",
              "      <td>Protective-serv</td>\n",
              "      <td>Husband</td>\n",
              "      <td>White</td>\n",
              "      <td>Male</td>\n",
              "      <td>0</td>\n",
              "      <td>0</td>\n",
              "      <td>40</td>\n",
              "      <td>United-States</td>\n",
              "      <td>&gt;50K</td>\n",
              "    </tr>\n",
              "    <tr>\n",
              "      <th>3</th>\n",
              "      <td>44</td>\n",
              "      <td>Private</td>\n",
              "      <td>160323</td>\n",
              "      <td>Some-college</td>\n",
              "      <td>10</td>\n",
              "      <td>Married-civ-spouse</td>\n",
              "      <td>Machine-op-inspct</td>\n",
              "      <td>Husband</td>\n",
              "      <td>Black</td>\n",
              "      <td>Male</td>\n",
              "      <td>7688</td>\n",
              "      <td>0</td>\n",
              "      <td>40</td>\n",
              "      <td>United-States</td>\n",
              "      <td>&gt;50K</td>\n",
              "    </tr>\n",
              "    <tr>\n",
              "      <th>4</th>\n",
              "      <td>18</td>\n",
              "      <td>NaN</td>\n",
              "      <td>103497</td>\n",
              "      <td>Some-college</td>\n",
              "      <td>10</td>\n",
              "      <td>Never-married</td>\n",
              "      <td>NaN</td>\n",
              "      <td>Own-child</td>\n",
              "      <td>White</td>\n",
              "      <td>Female</td>\n",
              "      <td>0</td>\n",
              "      <td>0</td>\n",
              "      <td>30</td>\n",
              "      <td>United-States</td>\n",
              "      <td>&lt;=50K</td>\n",
              "    </tr>\n",
              "  </tbody>\n",
              "</table>\n",
              "</div>"
            ],
            "text/plain": [
              "   age  workclass  fnlwgt  ... hours-per-week  native-country income\n",
              "0   25    Private  226802  ...             40   United-States  <=50K\n",
              "1   38    Private   89814  ...             50   United-States  <=50K\n",
              "2   28  Local-gov  336951  ...             40   United-States   >50K\n",
              "3   44    Private  160323  ...             40   United-States   >50K\n",
              "4   18        NaN  103497  ...             30   United-States  <=50K\n",
              "\n",
              "[5 rows x 15 columns]"
            ]
          },
          "metadata": {
            "tags": []
          },
          "execution_count": 107
        }
      ]
    },
    {
      "cell_type": "code",
      "metadata": {
        "colab": {
          "base_uri": "https://localhost:8080/"
        },
        "id": "8ClqZSsNXsyP",
        "outputId": "18197b6a-5439-47c1-9a4d-1ae8a10d0cc3"
      },
      "source": [
        "#To Check The NuLL Values If Dataset Have \n",
        "data.isnull().sum()"
      ],
      "execution_count": 108,
      "outputs": [
        {
          "output_type": "execute_result",
          "data": {
            "text/plain": [
              "age                  0\n",
              "workclass         2799\n",
              "fnlwgt               0\n",
              "education            0\n",
              "education-num        0\n",
              "marital-status       0\n",
              "occupation        2809\n",
              "relationship         0\n",
              "race                 0\n",
              "sex                  0\n",
              "capital-gain         0\n",
              "capital-loss         0\n",
              "hours-per-week       0\n",
              "native-country     857\n",
              "income               0\n",
              "dtype: int64"
            ]
          },
          "metadata": {
            "tags": []
          },
          "execution_count": 108
        }
      ]
    },
    {
      "cell_type": "code",
      "metadata": {
        "id": "avihuMZEAiWK"
      },
      "source": [
        "#Drop the data that For those rows that have nan value  \n",
        "data=data.dropna()"
      ],
      "execution_count": 109,
      "outputs": []
    },
    {
      "cell_type": "code",
      "metadata": {
        "id": "dU_Lmb1kAqu5",
        "colab": {
          "base_uri": "https://localhost:8080/"
        },
        "outputId": "401bfa7d-9146-4104-a6bb-b7ea3ac22cad"
      },
      "source": [
        "data.shape"
      ],
      "execution_count": 110,
      "outputs": [
        {
          "output_type": "execute_result",
          "data": {
            "text/plain": [
              "(45222, 15)"
            ]
          },
          "metadata": {
            "tags": []
          },
          "execution_count": 110
        }
      ]
    },
    {
      "cell_type": "code",
      "metadata": {
        "id": "DeVQ4wbI-yfc",
        "colab": {
          "base_uri": "https://localhost:8080/"
        },
        "outputId": "7aed0569-f866-434f-fb01-af9a641923bf"
      },
      "source": [
        "#To Check That dataset have nan or missing value have or not \n",
        "data.isnull().sum()"
      ],
      "execution_count": 111,
      "outputs": [
        {
          "output_type": "execute_result",
          "data": {
            "text/plain": [
              "age               0\n",
              "workclass         0\n",
              "fnlwgt            0\n",
              "education         0\n",
              "education-num     0\n",
              "marital-status    0\n",
              "occupation        0\n",
              "relationship      0\n",
              "race              0\n",
              "sex               0\n",
              "capital-gain      0\n",
              "capital-loss      0\n",
              "hours-per-week    0\n",
              "native-country    0\n",
              "income            0\n",
              "dtype: int64"
            ]
          },
          "metadata": {
            "tags": []
          },
          "execution_count": 111
        }
      ]
    },
    {
      "cell_type": "code",
      "metadata": {
        "id": "QPuc8sro-yfh",
        "colab": {
          "base_uri": "https://localhost:8080/",
          "height": 354
        },
        "outputId": "4873af18-5af2-4d6a-e70f-4aa8947ef598"
      },
      "source": [
        "#To Check That dataset have nan or missing value have or not \n",
        "sns.heatmap(data.isnull())"
      ],
      "execution_count": 112,
      "outputs": [
        {
          "output_type": "execute_result",
          "data": {
            "text/plain": [
              "<matplotlib.axes._subplots.AxesSubplot at 0x7f522678e588>"
            ]
          },
          "metadata": {
            "tags": []
          },
          "execution_count": 112
        },
        {
          "output_type": "display_data",
          "data": {
            "image/png": "[encoded data removed]",
            "text/plain": [
              "<Figure size 432x288 with 2 Axes>"
            ]
          },
          "metadata": {
            "tags": [],
            "needs_background": "light"
          }
        }
      ]
    },
    {
      "cell_type": "code",
      "metadata": {
        "id": "CPRj96VxBK4_",
        "colab": {
          "base_uri": "https://localhost:8080/"
        },
        "outputId": "42889b31-5e11-42dd-fe66-08dc2816635f"
      },
      "source": [
        "categorical = data.select_dtypes(include = [\"object\"]).keys()\n",
        "categorical"
      ],
      "execution_count": 113,
      "outputs": [
        {
          "output_type": "execute_result",
          "data": {
            "text/plain": [
              "Index(['workclass', 'education', 'marital-status', 'occupation',\n",
              "       'relationship', 'race', 'sex', 'native-country', 'income'],\n",
              "      dtype='object')"
            ]
          },
          "metadata": {
            "tags": []
          },
          "execution_count": 113
        }
      ]
    },
    {
      "cell_type": "code",
      "metadata": {
        "id": "EmAdpeqpBXWG",
        "colab": {
          "base_uri": "https://localhost:8080/"
        },
        "outputId": "68a9aa7c-84b5-4263-8c05-7adf063ee8ed"
      },
      "source": [
        "Numerical = data.select_dtypes(include = [\"int64\"]).keys()\n",
        "Numerical"
      ],
      "execution_count": 114,
      "outputs": [
        {
          "output_type": "execute_result",
          "data": {
            "text/plain": [
              "Index(['age', 'fnlwgt', 'education-num', 'capital-gain', 'capital-loss',\n",
              "       'hours-per-week'],\n",
              "      dtype='object')"
            ]
          },
          "metadata": {
            "tags": []
          },
          "execution_count": 114
        }
      ]
    },
    {
      "cell_type": "code",
      "metadata": {
        "id": "g35sD4Sq-yfm",
        "colab": {
          "base_uri": "https://localhost:8080/",
          "height": 297
        },
        "outputId": "7edcd324-061b-44c2-8e6f-2b0e5c7080f3"
      },
      "source": [
        "data[Numerical].describe()#Describe the dataset Column Value "
      ],
      "execution_count": 115,
      "outputs": [
        {
          "output_type": "execute_result",
          "data": {
            "text/html": [
              "<div>\n",
              "<style scoped>\n",
              "    .dataframe tbody tr th:only-of-type {\n",
              "        vertical-align: middle;\n",
              "    }\n",
              "\n",
              "    .dataframe tbody tr th {\n",
              "        vertical-align: top;\n",
              "    }\n",
              "\n",
              "    .dataframe thead th {\n",
              "        text-align: right;\n",
              "    }\n",
              "</style>\n",
              "<table border=\"1\" class=\"dataframe\">\n",
              "  <thead>\n",
              "    <tr style=\"text-align: right;\">\n",
              "      <th></th>\n",
              "      <th>age</th>\n",
              "      <th>fnlwgt</th>\n",
              "      <th>education-num</th>\n",
              "      <th>capital-gain</th>\n",
              "      <th>capital-loss</th>\n",
              "      <th>hours-per-week</th>\n",
              "    </tr>\n",
              "  </thead>\n",
              "  <tbody>\n",
              "    <tr>\n",
              "      <th>count</th>\n",
              "      <td>45222.000000</td>\n",
              "      <td>4.522200e+04</td>\n",
              "      <td>45222.000000</td>\n",
              "      <td>45222.000000</td>\n",
              "      <td>45222.000000</td>\n",
              "      <td>45222.000000</td>\n",
              "    </tr>\n",
              "    <tr>\n",
              "      <th>mean</th>\n",
              "      <td>38.547941</td>\n",
              "      <td>1.897347e+05</td>\n",
              "      <td>10.118460</td>\n",
              "      <td>1101.430344</td>\n",
              "      <td>88.595418</td>\n",
              "      <td>40.938017</td>\n",
              "    </tr>\n",
              "    <tr>\n",
              "      <th>std</th>\n",
              "      <td>13.217870</td>\n",
              "      <td>1.056392e+05</td>\n",
              "      <td>2.552881</td>\n",
              "      <td>7506.430084</td>\n",
              "      <td>404.956092</td>\n",
              "      <td>12.007508</td>\n",
              "    </tr>\n",
              "    <tr>\n",
              "      <th>min</th>\n",
              "      <td>17.000000</td>\n",
              "      <td>1.349200e+04</td>\n",
              "      <td>1.000000</td>\n",
              "      <td>0.000000</td>\n",
              "      <td>0.000000</td>\n",
              "      <td>1.000000</td>\n",
              "    </tr>\n",
              "    <tr>\n",
              "      <th>25%</th>\n",
              "      <td>28.000000</td>\n",
              "      <td>1.173882e+05</td>\n",
              "      <td>9.000000</td>\n",
              "      <td>0.000000</td>\n",
              "      <td>0.000000</td>\n",
              "      <td>40.000000</td>\n",
              "    </tr>\n",
              "    <tr>\n",
              "      <th>50%</th>\n",
              "      <td>37.000000</td>\n",
              "      <td>1.783160e+05</td>\n",
              "      <td>10.000000</td>\n",
              "      <td>0.000000</td>\n",
              "      <td>0.000000</td>\n",
              "      <td>40.000000</td>\n",
              "    </tr>\n",
              "    <tr>\n",
              "      <th>75%</th>\n",
              "      <td>47.000000</td>\n",
              "      <td>2.379260e+05</td>\n",
              "      <td>13.000000</td>\n",
              "      <td>0.000000</td>\n",
              "      <td>0.000000</td>\n",
              "      <td>45.000000</td>\n",
              "    </tr>\n",
              "    <tr>\n",
              "      <th>max</th>\n",
              "      <td>90.000000</td>\n",
              "      <td>1.490400e+06</td>\n",
              "      <td>16.000000</td>\n",
              "      <td>99999.000000</td>\n",
              "      <td>4356.000000</td>\n",
              "      <td>99.000000</td>\n",
              "    </tr>\n",
              "  </tbody>\n",
              "</table>\n",
              "</div>"
            ],
            "text/plain": [
              "                age        fnlwgt  ...  capital-loss  hours-per-week\n",
              "count  45222.000000  4.522200e+04  ...  45222.000000    45222.000000\n",
              "mean      38.547941  1.897347e+05  ...     88.595418       40.938017\n",
              "std       13.217870  1.056392e+05  ...    404.956092       12.007508\n",
              "min       17.000000  1.349200e+04  ...      0.000000        1.000000\n",
              "25%       28.000000  1.173882e+05  ...      0.000000       40.000000\n",
              "50%       37.000000  1.783160e+05  ...      0.000000       40.000000\n",
              "75%       47.000000  2.379260e+05  ...      0.000000       45.000000\n",
              "max       90.000000  1.490400e+06  ...   4356.000000       99.000000\n",
              "\n",
              "[8 rows x 6 columns]"
            ]
          },
          "metadata": {
            "tags": []
          },
          "execution_count": 115
        }
      ]
    },
    {
      "cell_type": "markdown",
      "metadata": {
        "id": "0mTlPTb7B5w-"
      },
      "source": [
        "# Visualisation of  Categorical Datatype"
      ]
    },
    {
      "cell_type": "code",
      "metadata": {
        "id": "EU5KxlMiB9cc",
        "colab": {
          "base_uri": "https://localhost:8080/",
          "height": 369
        },
        "outputId": "e66201cb-1690-40eb-948a-4a59d0f37f6e"
      },
      "source": [
        "#Workclass Vs Income \n",
        "fig = plt.figure(figsize=(10,5))\n",
        "sns.countplot('workclass', hue='income', data=data)\n",
        "plt.tight_layout()\n",
        "plt.show()"
      ],
      "execution_count": 116,
      "outputs": [
        {
          "output_type": "display_data",
          "data": {
            "image/png": "[encoded data removed]",
            "text/plain": [
              "<Figure size 720x360 with 1 Axes>"
            ]
          },
          "metadata": {
            "tags": [],
            "needs_background": "light"
          }
        }
      ]
    },
    {
      "cell_type": "code",
      "metadata": {
        "id": "zTs_qAcZCwpF",
        "colab": {
          "base_uri": "https://localhost:8080/",
          "height": 323
        },
        "outputId": "dea7688e-248e-49de-ec5c-5c730826ba48"
      },
      "source": [
        "#Education VS Income \n",
        "fig = plt.figure(figsize=(20,5))\n",
        "sns.countplot('education', hue='income', data=data)\n",
        "plt.tight_layout()\n",
        "plt.show()\n"
      ],
      "execution_count": 117,
      "outputs": [
        {
          "output_type": "display_data",
          "data": {
            "image/png": "[encoded data removed]",
            "text/plain": [
              "<Figure size 1440x360 with 1 Axes>"
            ]
          },
          "metadata": {
            "tags": [],
            "needs_background": "light"
          }
        }
      ]
    },
    {
      "cell_type": "code",
      "metadata": {
        "id": "_WesaoORCw-n",
        "colab": {
          "base_uri": "https://localhost:8080/",
          "height": 385
        },
        "outputId": "0d26c635-6c28-4a80-b193-eda253ea19e6"
      },
      "source": [
        "#Martial_Status Vs Income \n",
        "fig = plt.figure(figsize=(20,6))\n",
        "sns.countplot('marital-status', hue='income', data=data)\n",
        "plt.tight_layout()\n",
        "plt.show()"
      ],
      "execution_count": 118,
      "outputs": [
        {
          "output_type": "display_data",
          "data": {
            "image/png": "[encoded data removed]",
            "text/plain": [
              "<Figure size 1440x432 with 1 Axes>"
            ]
          },
          "metadata": {
            "tags": [],
            "needs_background": "light"
          }
        }
      ]
    },
    {
      "cell_type": "code",
      "metadata": {
        "id": "2o7wBftZCxM-",
        "colab": {
          "base_uri": "https://localhost:8080/",
          "height": 385
        },
        "outputId": "51edae5d-c810-4df4-b845-7c588c69d1ce"
      },
      "source": [
        "#Occupation Vs Income \n",
        "fig = plt.figure(figsize=(20,6))\n",
        "sns.countplot('occupation', hue='income', data=data)\n",
        "plt.tight_layout()\n",
        "plt.show()"
      ],
      "execution_count": 119,
      "outputs": [
        {
          "output_type": "display_data",
          "data": {
            "image/png": "[encoded data removed]",
            "text/plain": [
              "<Figure size 1440x432 with 1 Axes>"
            ]
          },
          "metadata": {
            "tags": [],
            "needs_background": "light"
          }
        }
      ]
    },
    {
      "cell_type": "code",
      "metadata": {
        "id": "WFYHJ5NXDib-",
        "colab": {
          "base_uri": "https://localhost:8080/",
          "height": 385
        },
        "outputId": "5382328c-c8e1-4c2b-9344-9b562a2f8e63"
      },
      "source": [
        "#Relationship Vs Income \n",
        "fig = plt.figure(figsize=(20,6))\n",
        "sns.countplot('relationship', hue='income', data=data)\n",
        "plt.tight_layout()\n",
        "plt.show()"
      ],
      "execution_count": 120,
      "outputs": [
        {
          "output_type": "display_data",
          "data": {
            "image/png": "[encoded data removed]",
            "text/plain": [
              "<Figure size 1440x432 with 1 Axes>"
            ]
          },
          "metadata": {
            "tags": [],
            "needs_background": "light"
          }
        }
      ]
    },
    {
      "cell_type": "code",
      "metadata": {
        "id": "umKK_wVsD4JB",
        "colab": {
          "base_uri": "https://localhost:8080/",
          "height": 441
        },
        "outputId": "7598b773-037e-4718-aa27-7831f284d646"
      },
      "source": [
        "#Race Vs Income \n",
        "fig = plt.figure(figsize=(10,6))\n",
        "sns.countplot('race', hue='income', data=data)\n",
        "plt.tight_layout()\n",
        "plt.show()"
      ],
      "execution_count": 121,
      "outputs": [
        {
          "output_type": "display_data",
          "data": {
            "image/png": "[encoded data removed]",
            "text/plain": [
              "<Figure size 720x432 with 1 Axes>"
            ]
          },
          "metadata": {
            "tags": [],
            "needs_background": "light"
          }
        }
      ]
    },
    {
      "cell_type": "code",
      "metadata": {
        "id": "oZKDZDYLEBjj",
        "colab": {
          "base_uri": "https://localhost:8080/",
          "height": 441
        },
        "outputId": "1158fd30-bdeb-46f4-979e-05db8d2e9ad7"
      },
      "source": [
        "#Sex Vs Income \n",
        "fig = plt.figure(figsize=(6,6))\n",
        "sns.countplot('sex', hue='income', data=data)\n",
        "plt.tight_layout()\n",
        "plt.show()"
      ],
      "execution_count": 122,
      "outputs": [
        {
          "output_type": "display_data",
          "data": {
            "image/png": "[encoded data removed]",
            "text/plain": [
              "<Figure size 432x432 with 1 Axes>"
            ]
          },
          "metadata": {
            "tags": [],
            "needs_background": "light"
          }
        }
      ]
    },
    {
      "cell_type": "code",
      "metadata": {
        "id": "fRt-GLPPEPME",
        "colab": {
          "base_uri": "https://localhost:8080/",
          "height": 429
        },
        "outputId": "819c9026-1e84-462f-86af-c9462d133b7f"
      },
      "source": [
        "#NAtive-Country Vs income \n",
        "fig = plt.figure(figsize=(30,10))\n",
        "sns.countplot('native-country', hue='income', data=data)\n",
        "plt.tight_layout()\n",
        "plt.show()"
      ],
      "execution_count": 123,
      "outputs": [
        {
          "output_type": "display_data",
          "data": {
            "image/png": "[encoded data removed]",
            "text/plain": [
              "<Figure size 2160x720 with 1 Axes>"
            ]
          },
          "metadata": {
            "tags": [],
            "needs_background": "light"
          }
        }
      ]
    },
    {
      "cell_type": "markdown",
      "metadata": {
        "id": "OCA13ygoE3z-"
      },
      "source": [
        "**Visualization of Numerical Data **"
      ]
    },
    {
      "cell_type": "code",
      "metadata": {
        "id": "yOHZhSIyGc2I"
      },
      "source": [
        "#Label Encoder is use to convert string column value into integer \n",
        "from sklearn import preprocessing\n",
        "lb=preprocessing.LabelEncoder()"
      ],
      "execution_count": 124,
      "outputs": []
    },
    {
      "cell_type": "code",
      "metadata": {
        "id": "QHhJQbmdGkf5"
      },
      "source": [
        "data['sex']=lb.fit_transform(data['sex'])\n",
        "data['income']=lb.fit_transform(data['income'])"
      ],
      "execution_count": 125,
      "outputs": []
    },
    {
      "cell_type": "code",
      "metadata": {
        "id": "XzA3u-r9E_Y7",
        "colab": {
          "base_uri": "https://localhost:8080/",
          "height": 296
        },
        "outputId": "80cd89a0-88a2-4260-a291-4a1cecb136dd"
      },
      "source": [
        "sns.boxplot(y='hours-per-week',x='income',data=data)"
      ],
      "execution_count": 126,
      "outputs": [
        {
          "output_type": "execute_result",
          "data": {
            "text/plain": [
              "<matplotlib.axes._subplots.AxesSubplot at 0x7f522666efd0>"
            ]
          },
          "metadata": {
            "tags": []
          },
          "execution_count": 126
        },
        {
          "output_type": "display_data",
          "data": {
            "image/png": "[encoded data removed]",
            "text/plain": [
              "<Figure size 432x288 with 1 Axes>"
            ]
          },
          "metadata": {
            "tags": [],
            "needs_background": "light"
          }
        }
      ]
    },
    {
      "cell_type": "code",
      "metadata": {
        "id": "CbmYF1CiE_ri",
        "colab": {
          "base_uri": "https://localhost:8080/",
          "height": 296
        },
        "outputId": "87f35107-2604-4581-9c41-3de6244b0c60"
      },
      "source": [
        "sns.boxplot(y='age',x='income',data=data)"
      ],
      "execution_count": 127,
      "outputs": [
        {
          "output_type": "execute_result",
          "data": {
            "text/plain": [
              "<matplotlib.axes._subplots.AxesSubplot at 0x7f522b771a20>"
            ]
          },
          "metadata": {
            "tags": []
          },
          "execution_count": 127
        },
        {
          "output_type": "display_data",
          "data": {
            "image/png": "[encoded data removed]",
            "text/plain": [
              "<Figure size 432x288 with 1 Axes>"
            ]
          },
          "metadata": {
            "tags": [],
            "needs_background": "light"
          }
        }
      ]
    },
    {
      "cell_type": "code",
      "metadata": {
        "id": "CfG2oXTsE_oZ",
        "colab": {
          "base_uri": "https://localhost:8080/",
          "height": 296
        },
        "outputId": "4ace5033-4c58-4f28-cc54-27dd4aef2bd0"
      },
      "source": [
        "sns.boxplot(y='education-num',x='income',data=data)"
      ],
      "execution_count": 128,
      "outputs": [
        {
          "output_type": "execute_result",
          "data": {
            "text/plain": [
              "<matplotlib.axes._subplots.AxesSubplot at 0x7f522b563a20>"
            ]
          },
          "metadata": {
            "tags": []
          },
          "execution_count": 128
        },
        {
          "output_type": "display_data",
          "data": {
            "image/png": "[encoded data removed]",
            "text/plain": [
              "<Figure size 432x288 with 1 Axes>"
            ]
          },
          "metadata": {
            "tags": [],
            "needs_background": "light"
          }
        }
      ]
    },
    {
      "cell_type": "code",
      "metadata": {
        "id": "coyI2m5jE_lj",
        "colab": {
          "base_uri": "https://localhost:8080/",
          "height": 307
        },
        "outputId": "8efe82ce-db38-4a99-eb12-0d2f4c665892"
      },
      "source": [
        "sns.boxplot(y='fnlwgt',x='income',data=data)"
      ],
      "execution_count": 129,
      "outputs": [
        {
          "output_type": "execute_result",
          "data": {
            "text/plain": [
              "<matplotlib.axes._subplots.AxesSubplot at 0x7f522b699978>"
            ]
          },
          "metadata": {
            "tags": []
          },
          "execution_count": 129
        },
        {
          "output_type": "display_data",
          "data": {
            "image/png": "[encoded data removed]",
            "text/plain": [
              "<Figure size 432x288 with 1 Axes>"
            ]
          },
          "metadata": {
            "tags": [],
            "needs_background": "light"
          }
        }
      ]
    },
    {
      "cell_type": "code",
      "metadata": {
        "id": "kufE-dIQF1F3",
        "colab": {
          "base_uri": "https://localhost:8080/",
          "height": 296
        },
        "outputId": "e2acfbe5-e14c-497a-8745-d959255037ef"
      },
      "source": [
        "sns.boxplot(y='capital-gain',x='income',data=data)"
      ],
      "execution_count": 130,
      "outputs": [
        {
          "output_type": "execute_result",
          "data": {
            "text/plain": [
              "<matplotlib.axes._subplots.AxesSubplot at 0x7f522b577e48>"
            ]
          },
          "metadata": {
            "tags": []
          },
          "execution_count": 130
        },
        {
          "output_type": "display_data",
          "data": {
            "image/png": "[encoded data removed]",
            "text/plain": [
              "<Figure size 432x288 with 1 Axes>"
            ]
          },
          "metadata": {
            "tags": [],
            "needs_background": "light"
          }
        }
      ]
    },
    {
      "cell_type": "code",
      "metadata": {
        "id": "iupbf9NyE_Vj",
        "colab": {
          "base_uri": "https://localhost:8080/",
          "height": 296
        },
        "outputId": "3b4d0ab3-f138-43f1-d060-316c3f2b288c"
      },
      "source": [
        "sns.boxplot(y='capital-loss',x='income',data=data)"
      ],
      "execution_count": 131,
      "outputs": [
        {
          "output_type": "execute_result",
          "data": {
            "text/plain": [
              "<matplotlib.axes._subplots.AxesSubplot at 0x7f52264c7198>"
            ]
          },
          "metadata": {
            "tags": []
          },
          "execution_count": 131
        },
        {
          "output_type": "display_data",
          "data": {
            "image/png": "[encoded data removed]",
            "text/plain": [
              "<Figure size 432x288 with 1 Axes>"
            ]
          },
          "metadata": {
            "tags": [],
            "needs_background": "light"
          }
        }
      ]
    },
    {
      "cell_type": "code",
      "metadata": {
        "id": "wEKy9bd-GWE4",
        "colab": {
          "base_uri": "https://localhost:8080/",
          "height": 296
        },
        "outputId": "876251d1-c77d-4229-a093-35ce2ac5d1cc"
      },
      "source": [
        "sns.boxplot(y='sex',x='income',data=data)"
      ],
      "execution_count": 132,
      "outputs": [
        {
          "output_type": "execute_result",
          "data": {
            "text/plain": [
              "<matplotlib.axes._subplots.AxesSubplot at 0x7f522644b7f0>"
            ]
          },
          "metadata": {
            "tags": []
          },
          "execution_count": 132
        },
        {
          "output_type": "display_data",
          "data": {
            "image/png": "[encoded data removed]",
            "text/plain": [
              "<Figure size 432x288 with 1 Axes>"
            ]
          },
          "metadata": {
            "tags": [],
            "needs_background": "light"
          }
        }
      ]
    },
    {
      "cell_type": "code",
      "metadata": {
        "id": "dtRucKkRG_fg",
        "colab": {
          "base_uri": "https://localhost:8080/",
          "height": 296
        },
        "outputId": "fc11ac12-52c9-4ef7-a2ee-953f517c46a1"
      },
      "source": [
        "sns.scatterplot(x='workclass',y='occupation',hue='sex',data=data)#Plot the Graph "
      ],
      "execution_count": 133,
      "outputs": [
        {
          "output_type": "execute_result",
          "data": {
            "text/plain": [
              "<matplotlib.axes._subplots.AxesSubplot at 0x7f52263ca7b8>"
            ]
          },
          "metadata": {
            "tags": []
          },
          "execution_count": 133
        },
        {
          "output_type": "display_data",
          "data": {
            "image/png": "[encoded data removed]",
            "text/plain": [
              "<Figure size 432x288 with 1 Axes>"
            ]
          },
          "metadata": {
            "tags": [],
            "needs_background": "light"
          }
        }
      ]
    },
    {
      "cell_type": "code",
      "metadata": {
        "id": "4MHvnDMgHNf6",
        "colab": {
          "base_uri": "https://localhost:8080/",
          "height": 400
        },
        "outputId": "1f7d6f55-b555-4d65-84ac-5ac230e1b9a1"
      },
      "source": [
        "sns.catplot(x='marital-status',y='education-num',hue='sex',kind='bar',data=data)"
      ],
      "execution_count": 134,
      "outputs": [
        {
          "output_type": "execute_result",
          "data": {
            "text/plain": [
              "<seaborn.axisgrid.FacetGrid at 0x7f522b6c6f60>"
            ]
          },
          "metadata": {
            "tags": []
          },
          "execution_count": 134
        },
        {
          "output_type": "display_data",
          "data": {
            "image/png": "[encoded data removed]",
            "text/plain": [
              "<Figure size 402.375x360 with 1 Axes>"
            ]
          },
          "metadata": {
            "tags": [],
            "needs_background": "light"
          }
        }
      ]
    },
    {
      "cell_type": "code",
      "metadata": {
        "id": "fuA0x_4NHNop",
        "colab": {
          "base_uri": "https://localhost:8080/",
          "height": 296
        },
        "outputId": "e2eb1437-ff78-439b-ec43-3a02839f7477"
      },
      "source": [
        "sns.stripplot(y=\"income\",x=\"relationship\",data=data)"
      ],
      "execution_count": 135,
      "outputs": [
        {
          "output_type": "execute_result",
          "data": {
            "text/plain": [
              "<matplotlib.axes._subplots.AxesSubplot at 0x7f522c00c7f0>"
            ]
          },
          "metadata": {
            "tags": []
          },
          "execution_count": 135
        },
        {
          "output_type": "display_data",
          "data": {
            "image/png": "[encoded data removed]",
            "text/plain": [
              "<Figure size 432x288 with 1 Axes>"
            ]
          },
          "metadata": {
            "tags": [],
            "needs_background": "light"
          }
        }
      ]
    },
    {
      "cell_type": "code",
      "metadata": {
        "colab": {
          "base_uri": "https://localhost:8080/"
        },
        "id": "_PWcSCFFpFi6",
        "outputId": "21941f0b-658e-48c6-de7b-9e643ead4512"
      },
      "source": [
        "data.columns"
      ],
      "execution_count": 136,
      "outputs": [
        {
          "output_type": "execute_result",
          "data": {
            "text/plain": [
              "Index(['age', 'workclass', 'fnlwgt', 'education', 'education-num',\n",
              "       'marital-status', 'occupation', 'relationship', 'race', 'sex',\n",
              "       'capital-gain', 'capital-loss', 'hours-per-week', 'native-country',\n",
              "       'income'],\n",
              "      dtype='object')"
            ]
          },
          "metadata": {
            "tags": []
          },
          "execution_count": 136
        }
      ]
    },
    {
      "cell_type": "code",
      "metadata": {
        "colab": {
          "base_uri": "https://localhost:8080/",
          "height": 609
        },
        "id": "FvmmOtiNNFWy",
        "outputId": "bc9fef46-65ce-433f-8120-f822429ced51"
      },
      "source": [
        "data[data['income'] == ' >50K']['occupation'].value_counts().head(3)\r\n",
        "pd.crosstab(data[\"occupation\"], data['income']).plot(kind='barh', stacked=True, figsize=(20, 10))"
      ],
      "execution_count": 137,
      "outputs": [
        {
          "output_type": "execute_result",
          "data": {
            "text/plain": [
              "<matplotlib.axes._subplots.AxesSubplot at 0x7f522b5a4470>"
            ]
          },
          "metadata": {
            "tags": []
          },
          "execution_count": 137
        },
        {
          "output_type": "display_data",
          "data": {
            "image/png": "[encoded data removed]",
            "text/plain": [
              "<Figure size 1440x720 with 1 Axes>"
            ]
          },
          "metadata": {
            "tags": [],
            "needs_background": "light"
          }
        }
      ]
    },
    {
      "cell_type": "markdown",
      "metadata": {
        "id": "fZIn-b0bHlco"
      },
      "source": [
        "# Outliear Detection using BoxPlot Graph"
      ]
    },
    {
      "cell_type": "code",
      "metadata": {
        "id": "zaVfV4rt-yfv",
        "colab": {
          "base_uri": "https://localhost:8080/",
          "height": 621
        },
        "outputId": "d64c2cbb-f61c-4d0e-fd9f-a4f90c87c088"
      },
      "source": [
        "#Usnig the Box plot \r\n",
        "plt.figure(figsize=(15,7),dpi=100)\r\n",
        "sns.boxplot(data = data[['age', 'workclass', 'fnlwgt', 'education', 'education-num',\r\n",
        "       'marital-status', 'occupation', 'relationship', 'race', 'sex',\r\n",
        "       'capital-gain', 'capital-loss', 'hours-per-week', 'native-country',\r\n",
        "       'income']])"
      ],
      "execution_count": 138,
      "outputs": [
        {
          "output_type": "execute_result",
          "data": {
            "text/plain": [
              "<matplotlib.axes._subplots.AxesSubplot at 0x7f5226917f60>"
            ]
          },
          "metadata": {
            "tags": []
          },
          "execution_count": 138
        },
        {
          "output_type": "display_data",
          "data": {
            "image/png": "[encoded data removed]",
            "text/plain": [
              "<Figure size 1500x700 with 1 Axes>"
            ]
          },
          "metadata": {
            "tags": [],
            "needs_background": "light"
          }
        }
      ]
    },
    {
      "cell_type": "code",
      "metadata": {
        "id": "tbLwLS2D-yf0",
        "colab": {
          "base_uri": "https://localhost:8080/",
          "height": 282
        },
        "outputId": "bc54be1e-83b4-4555-f977-d2e33ecfda1d"
      },
      "source": [
        "data['education-num'].plot.box()"
      ],
      "execution_count": 139,
      "outputs": [
        {
          "output_type": "execute_result",
          "data": {
            "text/plain": [
              "<matplotlib.axes._subplots.AxesSubplot at 0x7f52268a30f0>"
            ]
          },
          "metadata": {
            "tags": []
          },
          "execution_count": 139
        },
        {
          "output_type": "display_data",
          "data": {
            "image/png": "[encoded data removed]",
            "text/plain": [
              "<Figure size 432x288 with 1 Axes>"
            ]
          },
          "metadata": {
            "tags": [],
            "needs_background": "light"
          }
        }
      ]
    },
    {
      "cell_type": "code",
      "metadata": {
        "id": "ZqYX8abb-yf4",
        "colab": {
          "base_uri": "https://localhost:8080/",
          "height": 293
        },
        "outputId": "eeeeee41-b7ad-4a08-a080-13901d5f1e0f"
      },
      "source": [
        "data['fnlwgt'].plot.box()"
      ],
      "execution_count": 140,
      "outputs": [
        {
          "output_type": "execute_result",
          "data": {
            "text/plain": [
              "<matplotlib.axes._subplots.AxesSubplot at 0x7f52268f5f28>"
            ]
          },
          "metadata": {
            "tags": []
          },
          "execution_count": 140
        },
        {
          "output_type": "display_data",
          "data": {
            "image/png": "[encoded data removed]",
            "text/plain": [
              "<Figure size 432x288 with 1 Axes>"
            ]
          },
          "metadata": {
            "tags": [],
            "needs_background": "light"
          }
        }
      ]
    },
    {
      "cell_type": "code",
      "metadata": {
        "id": "qbOp0YC4-yf9",
        "colab": {
          "base_uri": "https://localhost:8080/",
          "height": 282
        },
        "outputId": "089fc218-6d72-4f32-db6f-abaad85739f0"
      },
      "source": [
        "data['capital-gain'].plot.box()"
      ],
      "execution_count": 141,
      "outputs": [
        {
          "output_type": "execute_result",
          "data": {
            "text/plain": [
              "<matplotlib.axes._subplots.AxesSubplot at 0x7f522623a198>"
            ]
          },
          "metadata": {
            "tags": []
          },
          "execution_count": 141
        },
        {
          "output_type": "display_data",
          "data": {
            "image/png": "[encoded data removed]",
            "text/plain": [
              "<Figure size 432x288 with 1 Axes>"
            ]
          },
          "metadata": {
            "tags": [],
            "needs_background": "light"
          }
        }
      ]
    },
    {
      "cell_type": "code",
      "metadata": {
        "id": "Vb8EDwLs-ygC",
        "colab": {
          "base_uri": "https://localhost:8080/",
          "height": 282
        },
        "outputId": "f0da7a89-42c1-4f8f-eebe-3a3278299c49"
      },
      "source": [
        "data['capital-loss'].plot.box()"
      ],
      "execution_count": 142,
      "outputs": [
        {
          "output_type": "execute_result",
          "data": {
            "text/plain": [
              "<matplotlib.axes._subplots.AxesSubplot at 0x7f522621ca90>"
            ]
          },
          "metadata": {
            "tags": []
          },
          "execution_count": 142
        },
        {
          "output_type": "display_data",
          "data": {
            "image/png": "[encoded data removed]",
            "text/plain": [
              "<Figure size 432x288 with 1 Axes>"
            ]
          },
          "metadata": {
            "tags": [],
            "needs_background": "light"
          }
        }
      ]
    },
    {
      "cell_type": "code",
      "metadata": {
        "id": "Xl7fZxXs-ygG",
        "colab": {
          "base_uri": "https://localhost:8080/",
          "height": 282
        },
        "outputId": "834ee439-046b-410d-c9ab-c45595920aed"
      },
      "source": [
        "data['hours-per-week'].plot.box()"
      ],
      "execution_count": 143,
      "outputs": [
        {
          "output_type": "execute_result",
          "data": {
            "text/plain": [
              "<matplotlib.axes._subplots.AxesSubplot at 0x7f5226173208>"
            ]
          },
          "metadata": {
            "tags": []
          },
          "execution_count": 143
        },
        {
          "output_type": "display_data",
          "data": {
            "image/png": "[encoded data removed]",
            "text/plain": [
              "<Figure size 432x288 with 1 Axes>"
            ]
          },
          "metadata": {
            "tags": [],
            "needs_background": "light"
          }
        }
      ]
    },
    {
      "cell_type": "code",
      "metadata": {
        "id": "TGkABjNm-ygL",
        "colab": {
          "base_uri": "https://localhost:8080/",
          "height": 296
        },
        "outputId": "d9178165-d26b-432d-86f2-ba34da4a440c"
      },
      "source": [
        "sns.distplot(data['age'])#Also use the Distplot TO check the outliers "
      ],
      "execution_count": 144,
      "outputs": [
        {
          "output_type": "execute_result",
          "data": {
            "text/plain": [
              "<matplotlib.axes._subplots.AxesSubplot at 0x7f522615bf98>"
            ]
          },
          "metadata": {
            "tags": []
          },
          "execution_count": 144
        },
        {
          "output_type": "display_data",
          "data": {
            "image/png": "[encoded data removed]",
            "text/plain": [
              "<Figure size 432x288 with 1 Axes>"
            ]
          },
          "metadata": {
            "tags": [],
            "needs_background": "light"
          }
        }
      ]
    },
    {
      "cell_type": "code",
      "metadata": {
        "id": "cXOrH8ei-ygV"
      },
      "source": [
        "data['race']=lb.fit_transform(data['race'])\n",
        "data['native-country']=lb.fit_transform(data['native-country'])\n",
        "data['occupation']=lb.fit_transform(data['occupation'])\n",
        "data['workclass']=lb.fit_transform(data['workclass'])\n",
        "data['relationship']=lb.fit_transform(data['relationship'])\n",
        "data['marital-status']=lb.fit_transform(data['marital-status'])\n",
        "data['education']=lb.fit_transform(data['education'])"
      ],
      "execution_count": 145,
      "outputs": []
    },
    {
      "cell_type": "code",
      "metadata": {
        "id": "If5vOTA2-ygZ",
        "colab": {
          "base_uri": "https://localhost:8080/"
        },
        "outputId": "b60276b3-eaad-43ef-c250-901c533ca475"
      },
      "source": [
        "data['income'].unique()"
      ],
      "execution_count": 146,
      "outputs": [
        {
          "output_type": "execute_result",
          "data": {
            "text/plain": [
              "array([0, 1])"
            ]
          },
          "metadata": {
            "tags": []
          },
          "execution_count": 146
        }
      ]
    },
    {
      "cell_type": "code",
      "metadata": {
        "id": "Vf1QQATl-yge",
        "colab": {
          "base_uri": "https://localhost:8080/"
        },
        "outputId": "ada720e8-8495-4f3f-c2e6-51d138482973"
      },
      "source": [
        "data['occupation'].unique()"
      ],
      "execution_count": 147,
      "outputs": [
        {
          "output_type": "execute_result",
          "data": {
            "text/plain": [
              "array([ 6,  4, 10,  7,  9,  2,  0,  3, 12, 11,  8, 13,  5,  1])"
            ]
          },
          "metadata": {
            "tags": []
          },
          "execution_count": 147
        }
      ]
    },
    {
      "cell_type": "code",
      "metadata": {
        "id": "7og1wrnr-ygk",
        "colab": {
          "base_uri": "https://localhost:8080/"
        },
        "outputId": "af969531-09be-404d-8966-14b9b9dc5901"
      },
      "source": [
        "data['native-country'].unique()"
      ],
      "execution_count": 148,
      "outputs": [
        {
          "output_type": "execute_result",
          "data": {
            "text/plain": [
              "array([38, 28, 12, 25,  5, 20, 10, 29, 36, 13,  7, 32, 39, 34,  3, 23, 18,\n",
              "        0, 30, 24,  8,  4, 35, 21,  1, 31,  2, 26, 15, 19, 33, 22,  6, 40,\n",
              "       17, 16, 11, 37, 27,  9, 14])"
            ]
          },
          "metadata": {
            "tags": []
          },
          "execution_count": 148
        }
      ]
    },
    {
      "cell_type": "code",
      "metadata": {
        "id": "zvmZTkjL-ygp",
        "colab": {
          "base_uri": "https://localhost:8080/"
        },
        "outputId": "3f84afd9-b519-490f-98ca-d45916f855f1"
      },
      "source": [
        "data['race'].unique()"
      ],
      "execution_count": 149,
      "outputs": [
        {
          "output_type": "execute_result",
          "data": {
            "text/plain": [
              "array([2, 4, 3, 0, 1])"
            ]
          },
          "metadata": {
            "tags": []
          },
          "execution_count": 149
        }
      ]
    },
    {
      "cell_type": "code",
      "metadata": {
        "id": "a9O7q9HI-ygt",
        "colab": {
          "base_uri": "https://localhost:8080/"
        },
        "outputId": "2412c795-27d3-449d-c757-7831700ad2b4"
      },
      "source": [
        "from scipy import stats #Z-Score used to remove the Outliers \n",
        "import numpy as np\n",
        "z = np.abs(stats.zscore(data))\n",
        "print(z)"
      ],
      "execution_count": 150,
      "outputs": [
        {
          "output_type": "stream",
          "text": [
            "[[1.02498291 0.2134431  0.35088942 ... 0.07812006 0.26299899 0.57403082]\n",
            " [0.04145504 0.2134431  0.94587846 ... 0.7547014  0.26299899 0.57403082]\n",
            " [0.79801494 1.25716323 1.39359159 ... 0.07812006 0.26299899 1.74206675]\n",
            " ...\n",
            " [1.47166476 0.2134431  0.35805983 ... 0.07812006 0.26299899 0.57403082]\n",
            " [1.25195088 0.2134431  0.11127873 ... 1.74376299 0.26299899 0.57403082]\n",
            " [1.01772882 0.83027703 0.92951628 ... 0.07812006 0.26299899 1.74206675]]\n"
          ],
          "name": "stdout"
        }
      ]
    },
    {
      "cell_type": "code",
      "metadata": {
        "id": "K2Wb30KD-ygy",
        "colab": {
          "base_uri": "https://localhost:8080/"
        },
        "outputId": "e89ac352-e905-4552-e96d-83e7f01ea124"
      },
      "source": [
        "threshold = 3.5 #Set the threshold Values \n",
        "print(np.where(z > 3.5))"
      ],
      "execution_count": 151,
      "outputs": [
        {
          "output_type": "stream",
          "text": [
            "(array([   20,    31,    46, ..., 45176, 45185, 45212]), array([12, 13, 11, ..., 13, 10,  8]))\n"
          ],
          "name": "stdout"
        }
      ]
    },
    {
      "cell_type": "code",
      "metadata": {
        "id": "J-qgSStA-yg3"
      },
      "source": [
        "data= data[(z < 3.5).all(axis=1)]"
      ],
      "execution_count": 152,
      "outputs": []
    },
    {
      "cell_type": "code",
      "metadata": {
        "id": "UKu2_zHv-yg8",
        "colab": {
          "base_uri": "https://localhost:8080/"
        },
        "outputId": "32cc3885-7960-4df4-956c-9f47a3b289a8"
      },
      "source": [
        "data.shape#Before Outliers Remove shape of Dataset "
      ],
      "execution_count": 153,
      "outputs": [
        {
          "output_type": "execute_result",
          "data": {
            "text/plain": [
              "(40616, 15)"
            ]
          },
          "metadata": {
            "tags": []
          },
          "execution_count": 153
        }
      ]
    },
    {
      "cell_type": "code",
      "metadata": {
        "id": "_xa1CBtL-yhD",
        "colab": {
          "base_uri": "https://localhost:8080/"
        },
        "outputId": "f8cc5aab-aefd-47fc-c3a9-e43c94b63dff"
      },
      "source": [
        "data.skew()#Before Remove the outliers the skewness in the dataset "
      ],
      "execution_count": 154,
      "outputs": [
        {
          "output_type": "execute_result",
          "data": {
            "text/plain": [
              "age                0.501824\n",
              "workclass          1.167867\n",
              "fnlwgt             0.736771\n",
              "education         -0.948424\n",
              "education-num     -0.242272\n",
              "marital-status    -0.031353\n",
              "occupation         0.114603\n",
              "relationship       0.799148\n",
              "race              -2.468457\n",
              "sex               -0.719351\n",
              "capital-gain       5.032513\n",
              "capital-loss      15.257136\n",
              "hours-per-week    -0.169190\n",
              "native-country    -4.651789\n",
              "income             1.277889\n",
              "dtype: float64"
            ]
          },
          "metadata": {
            "tags": []
          },
          "execution_count": 154
        }
      ]
    },
    {
      "cell_type": "code",
      "metadata": {
        "id": "yQeu_Mlp-yhH",
        "colab": {
          "base_uri": "https://localhost:8080/"
        },
        "outputId": "6829f534-bca8-4c8e-b74f-b5081082d387"
      },
      "source": [
        "data.shape#After Removing the Outliers the Shape of Datset"
      ],
      "execution_count": 155,
      "outputs": [
        {
          "output_type": "execute_result",
          "data": {
            "text/plain": [
              "(40616, 15)"
            ]
          },
          "metadata": {
            "tags": []
          },
          "execution_count": 155
        }
      ]
    },
    {
      "cell_type": "code",
      "metadata": {
        "id": "bHhM6qC0-yhK",
        "colab": {
          "base_uri": "https://localhost:8080/"
        },
        "outputId": "6116848d-fbe6-483b-949a-d6e53b0b2eba"
      },
      "source": [
        "data.skew()#Check the skewness of Dataset After REmoving the Datset "
      ],
      "execution_count": 156,
      "outputs": [
        {
          "output_type": "execute_result",
          "data": {
            "text/plain": [
              "age                0.501824\n",
              "workclass          1.167867\n",
              "fnlwgt             0.736771\n",
              "education         -0.948424\n",
              "education-num     -0.242272\n",
              "marital-status    -0.031353\n",
              "occupation         0.114603\n",
              "relationship       0.799148\n",
              "race              -2.468457\n",
              "sex               -0.719351\n",
              "capital-gain       5.032513\n",
              "capital-loss      15.257136\n",
              "hours-per-week    -0.169190\n",
              "native-country    -4.651789\n",
              "income             1.277889\n",
              "dtype: float64"
            ]
          },
          "metadata": {
            "tags": []
          },
          "execution_count": 156
        }
      ]
    },
    {
      "cell_type": "code",
      "metadata": {
        "id": "a1VPVP-G-yhO",
        "colab": {
          "base_uri": "https://localhost:8080/",
          "height": 772
        },
        "outputId": "6564d4e4-2854-4d7a-e035-52316e9c8a2c"
      },
      "source": [
        "plt.figure(figsize = (12,12))\n",
        "sns.heatmap(data.corr(), annot = True, )\n",
        "plt.show()"
      ],
      "execution_count": 157,
      "outputs": [
        {
          "output_type": "display_data",
          "data": {
            "image/png": "[encoded data removed]",
            "text/plain": [
              "<Figure size 864x864 with 2 Axes>"
            ]
          },
          "metadata": {
            "tags": [],
            "needs_background": "light"
          }
        }
      ]
    },
    {
      "cell_type": "code",
      "metadata": {
        "colab": {
          "base_uri": "https://localhost:8080/"
        },
        "id": "q7QWjZHHfPzz",
        "outputId": "74ac695a-7944-4712-aad8-81598c960988"
      },
      "source": [
        "data.columns"
      ],
      "execution_count": 158,
      "outputs": [
        {
          "output_type": "execute_result",
          "data": {
            "text/plain": [
              "Index(['age', 'workclass', 'fnlwgt', 'education', 'education-num',\n",
              "       'marital-status', 'occupation', 'relationship', 'race', 'sex',\n",
              "       'capital-gain', 'capital-loss', 'hours-per-week', 'native-country',\n",
              "       'income'],\n",
              "      dtype='object')"
            ]
          },
          "metadata": {
            "tags": []
          },
          "execution_count": 158
        }
      ]
    },
    {
      "cell_type": "code",
      "metadata": {
        "id": "5LwTsjKbfVcU"
      },
      "source": [
        "x=data[['age', 'workclass', 'fnlwgt', 'education', 'education-num',\n",
        "       'marital-status', 'occupation', 'relationship', 'race', 'sex',\n",
        "       'capital-gain', 'capital-loss', 'hours-per-week', 'native-country',\n",
        "       ]].copy()"
      ],
      "execution_count": 159,
      "outputs": []
    },
    {
      "cell_type": "code",
      "metadata": {
        "id": "cMJVeLuO-yhl"
      },
      "source": [
        "y=data['income'] #Y have Targeted Value"
      ],
      "execution_count": 160,
      "outputs": []
    },
    {
      "cell_type": "code",
      "metadata": {
        "id": "SgEEOGYLffb7"
      },
      "source": [
        "# Important feature using ExtraTreesClassifier\n",
        "from sklearn.ensemble import ExtraTreesClassifier\n",
        "selection = ExtraTreesClassifier(n_estimators = 5, \n",
        "                                        criterion ='entropy', max_features = 2) \n",
        "selection=selection.fit(x, y)"
      ],
      "execution_count": 161,
      "outputs": []
    },
    {
      "cell_type": "code",
      "metadata": {
        "id": "8Gg_Zxspj665"
      },
      "source": [
        "feature_importance = selection.feature_importances_ \n"
      ],
      "execution_count": 162,
      "outputs": []
    },
    {
      "cell_type": "code",
      "metadata": {
        "id": "snWKi4S5juoM"
      },
      "source": [
        "feature_importance_normalized = np.std([tree.feature_importances_ for tree in \n",
        "                                        selection.estimators_], \n",
        "                                        axis = 0)"
      ],
      "execution_count": 163,
      "outputs": []
    },
    {
      "cell_type": "code",
      "metadata": {
        "colab": {
          "base_uri": "https://localhost:8080/"
        },
        "id": "gsjV6_Fvfkij",
        "outputId": "c105763e-7042-4dbf-c21f-8832179126ef"
      },
      "source": [
        "print(selection.feature_importances_)"
      ],
      "execution_count": 164,
      "outputs": [
        {
          "output_type": "stream",
          "text": [
            "[0.19340725 0.04058544 0.1872983  0.03558436 0.078938   0.05021693\n",
            " 0.07300579 0.1020075  0.01212386 0.03595949 0.07590131 0.002003\n",
            " 0.10343769 0.00953107]\n"
          ],
          "name": "stdout"
        }
      ]
    },
    {
      "cell_type": "code",
      "metadata": {
        "colab": {
          "base_uri": "https://localhost:8080/",
          "height": 700
        },
        "id": "9o6dBgcZflJa",
        "outputId": "6bc36c13-162d-42ca-9e4e-6f0d58e40fba"
      },
      "source": [
        "#plot graph of feature importances for better visualization\n",
        "plt.figure(figsize = (12,12))\n",
        "feat_importances = pd.Series(selection.feature_importances_, index=x.columns)\n",
        "feat_importances.nlargest(20).plot(kind='barh')\n",
        "plt.show()"
      ],
      "execution_count": 165,
      "outputs": [
        {
          "output_type": "display_data",
          "data": {
            "image/png": "[encoded data removed]",
            "text/plain": [
              "<Figure size 864x864 with 1 Axes>"
            ]
          },
          "metadata": {
            "tags": [],
            "needs_background": "light"
          }
        }
      ]
    },
    {
      "cell_type": "code",
      "metadata": {
        "id": "RxKIZZnalSj3"
      },
      "source": [
        "from sklearn.feature_selection import SelectFromModel\n",
        "selector = SelectFromModel(selection, prefit=True)\n",
        "x = selector.transform(x)"
      ],
      "execution_count": 166,
      "outputs": []
    },
    {
      "cell_type": "code",
      "metadata": {
        "id": "zTXB2mZr-yhq"
      },
      "source": [
        "y=y.values.reshape(-1,1)#Reshape the targeted Value "
      ],
      "execution_count": 167,
      "outputs": []
    },
    {
      "cell_type": "code",
      "metadata": {
        "id": "jp4OhC8d-yht",
        "colab": {
          "base_uri": "https://localhost:8080/"
        },
        "outputId": "1423a2c4-6384-4853-8d8b-bea78d543e65"
      },
      "source": [
        "y.shape"
      ],
      "execution_count": 168,
      "outputs": [
        {
          "output_type": "execute_result",
          "data": {
            "text/plain": [
              "(40616, 1)"
            ]
          },
          "metadata": {
            "tags": []
          },
          "execution_count": 168
        }
      ]
    },
    {
      "cell_type": "code",
      "metadata": {
        "id": "196I953j-yhy"
      },
      "source": [
        "x_train,x_test,y_train,y_test=train_test_split(x,y,train_size=0.65,test_size=0.35,random_state=1)#Split the Dataset x and Y into x_tran "
      ],
      "execution_count": 169,
      "outputs": []
    },
    {
      "cell_type": "code",
      "metadata": {
        "id": "ZvBGes_r-yh2",
        "colab": {
          "base_uri": "https://localhost:8080/"
        },
        "outputId": "7a7a2eb1-bc44-4d8a-a368-b1fabb987326"
      },
      "source": [
        "x_train.shape"
      ],
      "execution_count": 170,
      "outputs": [
        {
          "output_type": "execute_result",
          "data": {
            "text/plain": [
              "(26400, 7)"
            ]
          },
          "metadata": {
            "tags": []
          },
          "execution_count": 170
        }
      ]
    },
    {
      "cell_type": "code",
      "metadata": {
        "id": "QyzK8l4O-yh7",
        "colab": {
          "base_uri": "https://localhost:8080/"
        },
        "outputId": "10119b29-45ba-47d2-f0ca-85654eea8fc5"
      },
      "source": [
        "x_test.shape"
      ],
      "execution_count": 171,
      "outputs": [
        {
          "output_type": "execute_result",
          "data": {
            "text/plain": [
              "(14216, 7)"
            ]
          },
          "metadata": {
            "tags": []
          },
          "execution_count": 171
        }
      ]
    },
    {
      "cell_type": "code",
      "metadata": {
        "id": "Lcdd69EX-yiA",
        "colab": {
          "base_uri": "https://localhost:8080/"
        },
        "outputId": "12e2e7a9-206b-45f5-a46a-6ad0d2b0c735"
      },
      "source": [
        "y_train.shape"
      ],
      "execution_count": 172,
      "outputs": [
        {
          "output_type": "execute_result",
          "data": {
            "text/plain": [
              "(26400, 1)"
            ]
          },
          "metadata": {
            "tags": []
          },
          "execution_count": 172
        }
      ]
    },
    {
      "cell_type": "code",
      "metadata": {
        "id": "rc_LXi9Y-yiL",
        "colab": {
          "base_uri": "https://localhost:8080/"
        },
        "outputId": "b7111a8a-66cb-4751-e645-676b5f733625"
      },
      "source": [
        "y_test.shape"
      ],
      "execution_count": 173,
      "outputs": [
        {
          "output_type": "execute_result",
          "data": {
            "text/plain": [
              "(14216, 1)"
            ]
          },
          "metadata": {
            "tags": []
          },
          "execution_count": 173
        }
      ]
    },
    {
      "cell_type": "code",
      "metadata": {
        "id": "oIc6b5auJyAP",
        "colab": {
          "base_uri": "https://localhost:8080/"
        },
        "outputId": "b51b21e8-ca5b-4af8-bfc0-e5fd70f24e12"
      },
      "source": [
        "from sklearn.linear_model import LogisticRegression\n",
        "lr = LogisticRegression(random_state=5)\n",
        "lr.fit(x_train,y_train)\n"
      ],
      "execution_count": 174,
      "outputs": [
        {
          "output_type": "execute_result",
          "data": {
            "text/plain": [
              "LogisticRegression(C=1.0, class_weight=None, dual=False, fit_intercept=True,\n",
              "                   intercept_scaling=1, l1_ratio=None, max_iter=100,\n",
              "                   multi_class='auto', n_jobs=None, penalty='l2',\n",
              "                   random_state=5, solver='lbfgs', tol=0.0001, verbose=0,\n",
              "                   warm_start=False)"
            ]
          },
          "metadata": {
            "tags": []
          },
          "execution_count": 174
        }
      ]
    },
    {
      "cell_type": "code",
      "metadata": {
        "id": "j50bFJfeJ53L",
        "colab": {
          "base_uri": "https://localhost:8080/"
        },
        "outputId": "9f006883-7d86-40c1-bffb-f50ecf2be4f4"
      },
      "source": [
        "pred=lr.predict(x_test)#Pred\n",
        "print(' prediction \\n',pred)#Print Prediction Value \n",
        "lr=print('accuracy score\\n',accuracy_score(pred,y_test))\n",
        "print('confusion metrix\\n',confusion_matrix(pred,y_test))\n",
        "print('classification Report \\n',classification_report(pred,y_test))"
      ],
      "execution_count": 175,
      "outputs": [
        {
          "output_type": "stream",
          "text": [
            " prediction \n",
            " [1 1 0 ... 0 0 1]\n",
            "accuracy score\n",
            " 0.800436128306134\n",
            "confusion metrix\n",
            " [[10712  2620]\n",
            " [  217   667]]\n",
            "classification Report \n",
            "               precision    recall  f1-score   support\n",
            "\n",
            "           0       0.98      0.80      0.88     13332\n",
            "           1       0.20      0.75      0.32       884\n",
            "\n",
            "    accuracy                           0.80     14216\n",
            "   macro avg       0.59      0.78      0.60     14216\n",
            "weighted avg       0.93      0.80      0.85     14216\n",
            "\n"
          ],
          "name": "stdout"
        }
      ]
    },
    {
      "cell_type": "code",
      "metadata": {
        "id": "zAg0Ln0T-yiP",
        "colab": {
          "base_uri": "https://localhost:8080/"
        },
        "outputId": "fe914902-0db6-4ad4-c8f4-3f762e89f2ae"
      },
      "source": [
        "from sklearn.naive_bayes import GaussianNB #Use GaussianNB Navie bye's Algorithem \n",
        "gnb = GaussianNB() \n",
        "gnb.fit(x_train, y_train)"
      ],
      "execution_count": 176,
      "outputs": [
        {
          "output_type": "execute_result",
          "data": {
            "text/plain": [
              "GaussianNB(priors=None, var_smoothing=1e-09)"
            ]
          },
          "metadata": {
            "tags": []
          },
          "execution_count": 176
        }
      ]
    },
    {
      "cell_type": "code",
      "metadata": {
        "id": "E5pOYwAk-yid",
        "colab": {
          "base_uri": "https://localhost:8080/"
        },
        "outputId": "d51908f4-d5a7-41f7-9995-63de308f31c6"
      },
      "source": [
        "pred=gnb.predict(x_test)#Pred\n",
        "print(' prediction \\n',pred)#Print Prediction Value \n",
        "gnb=print('accuracy score\\n',accuracy_score(pred,y_test))\n",
        "print('confusion metrix\\n',confusion_matrix(pred,y_test))\n",
        "print('classification Report \\n',classification_report(pred,y_test))"
      ],
      "execution_count": 177,
      "outputs": [
        {
          "output_type": "stream",
          "text": [
            " prediction \n",
            " [1 1 0 ... 1 0 1]\n",
            "accuracy score\n",
            " 0.7926280247608328\n",
            "confusion metrix\n",
            " [[10557  2576]\n",
            " [  372   711]]\n",
            "classification Report \n",
            "               precision    recall  f1-score   support\n",
            "\n",
            "           0       0.97      0.80      0.88     13133\n",
            "           1       0.22      0.66      0.33      1083\n",
            "\n",
            "    accuracy                           0.79     14216\n",
            "   macro avg       0.59      0.73      0.60     14216\n",
            "weighted avg       0.91      0.79      0.84     14216\n",
            "\n"
          ],
          "name": "stdout"
        }
      ]
    },
    {
      "cell_type": "code",
      "metadata": {
        "id": "8JtWsYdq-yik"
      },
      "source": [
        "from sklearn.neighbors import KNeighborsClassifier#KNN ALgorithem to learn the model for prediction \n",
        "knc = KNeighborsClassifier(n_neighbors=49)"
      ],
      "execution_count": 178,
      "outputs": []
    },
    {
      "cell_type": "code",
      "metadata": {
        "id": "5PdUh69k-yin",
        "colab": {
          "base_uri": "https://localhost:8080/"
        },
        "outputId": "1a560256-d27e-45bf-df8c-53c69fbf9ad5"
      },
      "source": [
        "knc.fit(x_train, y_train)#Fit the model "
      ],
      "execution_count": 179,
      "outputs": [
        {
          "output_type": "execute_result",
          "data": {
            "text/plain": [
              "KNeighborsClassifier(algorithm='auto', leaf_size=30, metric='minkowski',\n",
              "                     metric_params=None, n_jobs=None, n_neighbors=49, p=2,\n",
              "                     weights='uniform')"
            ]
          },
          "metadata": {
            "tags": []
          },
          "execution_count": 179
        }
      ]
    },
    {
      "cell_type": "code",
      "metadata": {
        "colab": {
          "base_uri": "https://localhost:8080/"
        },
        "id": "NVH30Y0i9Ofz",
        "outputId": "42120dad-4977-4334-c2fd-0ffa377337c8"
      },
      "source": [
        "score=cross_val_score(knc,x,y,cv=5)\r\n",
        "print('score of mean \\n',score.mean())\r\n",
        "print('score of standard devition \\n',score.std())\r\n",
        "y_pred=cross_val_predict(knc,x,y,cv=5)\r\n",
        "print('prediction \\n',y_pred)\r\n",
        "confu=confusion_matrix(y,y_pred)\r\n",
        "print('confusion matrix \\n',confu)"
      ],
      "execution_count": 180,
      "outputs": [
        {
          "output_type": "stream",
          "text": [
            "score of mean \n",
            " 0.8029595074207716\n",
            "score of standard devition \n",
            " 0.0019341947835484867\n",
            "prediction \n",
            " [0 0 0 ... 0 0 1]\n",
            "confusion matrix \n",
            " [[31104   138]\n",
            " [ 7865  1509]]\n"
          ],
          "name": "stdout"
        }
      ]
    },
    {
      "cell_type": "code",
      "metadata": {
        "id": "q9AgHMTS-yis",
        "colab": {
          "base_uri": "https://localhost:8080/"
        },
        "outputId": "a4cf2f98-166e-4338-9e89-01db9e71e218"
      },
      "source": [
        "pred=knc.predict(x_test)#Pred\n",
        "print(' prediction \\n',pred)#print the predicted Value \n",
        "knc=print('accuracy score\\n',accuracy_score(pred,y_test))#Accuracy SCore \n",
        "print('confusion metrix\\n',confusion_matrix(pred,y_test))#Confusion metrix\n",
        "print('classification Report \\n',classification_report(pred,y_test))#Classsifiaction Report "
      ],
      "execution_count": 181,
      "outputs": [
        {
          "output_type": "stream",
          "text": [
            " prediction \n",
            " [1 0 0 ... 0 0 1]\n",
            "accuracy score\n",
            " 0.8033905458638154\n",
            "confusion metrix\n",
            " [[10894  2760]\n",
            " [   35   527]]\n",
            "classification Report \n",
            "               precision    recall  f1-score   support\n",
            "\n",
            "           0       1.00      0.80      0.89     13654\n",
            "           1       0.16      0.94      0.27       562\n",
            "\n",
            "    accuracy                           0.80     14216\n",
            "   macro avg       0.58      0.87      0.58     14216\n",
            "weighted avg       0.96      0.80      0.86     14216\n",
            "\n"
          ],
          "name": "stdout"
        }
      ]
    },
    {
      "cell_type": "code",
      "metadata": {
        "id": "2UBmCy5vKYpU",
        "colab": {
          "base_uri": "https://localhost:8080/"
        },
        "outputId": "9a05cba0-676f-4172-b23e-30e19170308a"
      },
      "source": [
        "from sklearn.svm import SVC\n",
        "svc=SVC()\n",
        "svc.fit(x_train,y_train)"
      ],
      "execution_count": 182,
      "outputs": [
        {
          "output_type": "execute_result",
          "data": {
            "text/plain": [
              "SVC(C=1.0, break_ties=False, cache_size=200, class_weight=None, coef0=0.0,\n",
              "    decision_function_shape='ovr', degree=3, gamma='scale', kernel='rbf',\n",
              "    max_iter=-1, probability=False, random_state=None, shrinking=True,\n",
              "    tol=0.001, verbose=False)"
            ]
          },
          "metadata": {
            "tags": []
          },
          "execution_count": 182
        }
      ]
    },
    {
      "cell_type": "code",
      "metadata": {
        "id": "wM6ieY-IKnlY",
        "colab": {
          "base_uri": "https://localhost:8080/"
        },
        "outputId": "ae51cfa4-bd2c-42f1-872c-049b48434974"
      },
      "source": [
        "pred=svc.predict(x_test)#Pred\n",
        "print(' prediction \\n',pred)#print the predicted Value \n",
        "svc=print('accuracy score\\n',accuracy_score(pred,y_test))#Accuracy SCore \n",
        "print('confusion metrix\\n',confusion_matrix(pred,y_test))#Confusion metrix\n",
        "print('classification Report \\n',classification_report(pred,y_test))#Classsifiaction Report "
      ],
      "execution_count": 183,
      "outputs": [
        {
          "output_type": "stream",
          "text": [
            " prediction \n",
            " [0 0 0 ... 0 0 0]\n",
            "accuracy score\n",
            " 0.8037422622397299\n",
            "confusion metrix\n",
            " [[10912  2773]\n",
            " [   17   514]]\n",
            "classification Report \n",
            "               precision    recall  f1-score   support\n",
            "\n",
            "           0       1.00      0.80      0.89     13685\n",
            "           1       0.16      0.97      0.27       531\n",
            "\n",
            "    accuracy                           0.80     14216\n",
            "   macro avg       0.58      0.88      0.58     14216\n",
            "weighted avg       0.97      0.80      0.86     14216\n",
            "\n"
          ],
          "name": "stdout"
        }
      ]
    },
    {
      "cell_type": "code",
      "metadata": {
        "id": "WjpRisjYKzRG",
        "colab": {
          "base_uri": "https://localhost:8080/"
        },
        "outputId": "f766af89-74d1-4036-d567-711a587cbe4e"
      },
      "source": [
        "from sklearn.tree import DecisionTreeClassifier\n",
        "from sklearn.ensemble import RandomForestClassifier\n",
        "tree= DecisionTreeClassifier() #max_leaf_nodes=12 #random_state=1\n",
        "tree.fit(x_train,y_train)"
      ],
      "execution_count": 184,
      "outputs": [
        {
          "output_type": "execute_result",
          "data": {
            "text/plain": [
              "DecisionTreeClassifier(ccp_alpha=0.0, class_weight=None, criterion='gini',\n",
              "                       max_depth=None, max_features=None, max_leaf_nodes=None,\n",
              "                       min_impurity_decrease=0.0, min_impurity_split=None,\n",
              "                       min_samples_leaf=1, min_samples_split=2,\n",
              "                       min_weight_fraction_leaf=0.0, presort='deprecated',\n",
              "                       random_state=None, splitter='best')"
            ]
          },
          "metadata": {
            "tags": []
          },
          "execution_count": 184
        }
      ]
    },
    {
      "cell_type": "code",
      "metadata": {
        "colab": {
          "base_uri": "https://localhost:8080/"
        },
        "id": "8zS-Ngh-9DmE",
        "outputId": "083046f6-125d-4dfd-90fb-b1a64ac9301a"
      },
      "source": [
        "score=cross_val_score(tree,x,y,cv=5,scoring='accuracy')\r\n",
        "print('score of mean \\n',score.mean())\r\n",
        "print('score of standard devition \\n',score.std())\r\n",
        "y_pred=cross_val_predict(tree,x,y,cv=5)\r\n",
        "print('prediction \\n',y_pred)\r\n"
      ],
      "execution_count": 187,
      "outputs": [
        {
          "output_type": "stream",
          "text": [
            "score of mean \n",
            " 0.8024915211488942\n",
            "score of standard devition \n",
            " 0.0035751591415950084\n",
            "prediction \n",
            " [0 0 1 ... 0 0 1]\n"
          ],
          "name": "stdout"
        }
      ]
    },
    {
      "cell_type": "code",
      "metadata": {
        "id": "w6wjuT1hKzjG",
        "colab": {
          "base_uri": "https://localhost:8080/"
        },
        "outputId": "4f04bf4d-af57-4714-c6d6-bfc80b952dfd"
      },
      "source": [
        "pred=tree.predict(x_test)#Pred\n",
        "print(' prediction \\n',pred)#print the predicted Value \n",
        "tree=print('accuracy score\\n',accuracy_score(pred,y_test))#Accuracy SCore \n",
        "print('confusion metrix\\n',confusion_matrix(pred,y_test))#Confusion metrix\n",
        "print('classification Report \\n',classification_report(pred,y_test))#Classsifiaction Report "
      ],
      "execution_count": 188,
      "outputs": [
        {
          "output_type": "stream",
          "text": [
            " prediction \n",
            " [1 0 0 ... 1 0 1]\n",
            "accuracy score\n",
            " 0.7972706809229038\n",
            "confusion metrix\n",
            " [[9462 1415]\n",
            " [1467 1872]]\n",
            "classification Report \n",
            "               precision    recall  f1-score   support\n",
            "\n",
            "           0       0.87      0.87      0.87     10877\n",
            "           1       0.57      0.56      0.57      3339\n",
            "\n",
            "    accuracy                           0.80     14216\n",
            "   macro avg       0.72      0.72      0.72     14216\n",
            "weighted avg       0.80      0.80      0.80     14216\n",
            "\n"
          ],
          "name": "stdout"
        }
      ]
    },
    {
      "cell_type": "code",
      "metadata": {
        "id": "LXXmvvQ8Kzp9",
        "colab": {
          "base_uri": "https://localhost:8080/"
        },
        "outputId": "6412a379-c057-4476-eedb-2af3180213c4"
      },
      "source": [
        "b = RandomForestClassifier(max_leaf_nodes=14)\n",
        "b.fit(x_train,y_train)"
      ],
      "execution_count": 189,
      "outputs": [
        {
          "output_type": "execute_result",
          "data": {
            "text/plain": [
              "RandomForestClassifier(bootstrap=True, ccp_alpha=0.0, class_weight=None,\n",
              "                       criterion='gini', max_depth=None, max_features='auto',\n",
              "                       max_leaf_nodes=14, max_samples=None,\n",
              "                       min_impurity_decrease=0.0, min_impurity_split=None,\n",
              "                       min_samples_leaf=1, min_samples_split=2,\n",
              "                       min_weight_fraction_leaf=0.0, n_estimators=100,\n",
              "                       n_jobs=None, oob_score=False, random_state=None,\n",
              "                       verbose=0, warm_start=False)"
            ]
          },
          "metadata": {
            "tags": []
          },
          "execution_count": 189
        }
      ]
    },
    {
      "cell_type": "code",
      "metadata": {
        "id": "KuXYOgm1LUzd",
        "colab": {
          "base_uri": "https://localhost:8080/"
        },
        "outputId": "ea537882-008e-4e06-fb6e-ae36e7d5f475"
      },
      "source": [
        "pred=b.predict(x_test)#Pred\n",
        "print(' prediction \\n',pred)#print the predicted Value \n",
        "b=print('accuracy score\\n',accuracy_score(pred,y_test))#Accuracy SCore \n",
        "print('confusion metrix\\n',confusion_matrix(pred,y_test))#Confusion metrix\n",
        "print('classification Report \\n',classification_report(pred,y_test))#Classsifiaction Report "
      ],
      "execution_count": 190,
      "outputs": [
        {
          "output_type": "stream",
          "text": [
            " prediction \n",
            " [1 0 0 ... 1 0 0]\n",
            "accuracy score\n",
            " 0.8451744513224536\n",
            "confusion metrix\n",
            " [[10517  1789]\n",
            " [  412  1498]]\n",
            "classification Report \n",
            "               precision    recall  f1-score   support\n",
            "\n",
            "           0       0.96      0.85      0.91     12306\n",
            "           1       0.46      0.78      0.58      1910\n",
            "\n",
            "    accuracy                           0.85     14216\n",
            "   macro avg       0.71      0.82      0.74     14216\n",
            "weighted avg       0.89      0.85      0.86     14216\n",
            "\n"
          ],
          "name": "stdout"
        }
      ]
    },
    {
      "cell_type": "code",
      "metadata": {
        "id": "6uLAQMeWLnBK",
        "colab": {
          "base_uri": "https://localhost:8080/"
        },
        "outputId": "c3c62f9e-664a-42ee-fc58-fa53243cd6a2"
      },
      "source": [
        "from sklearn.ensemble import BaggingClassifier\n",
        "bagging = BaggingClassifier(max_samples=0.5,max_features=0.5)\n",
        "bagging.fit(x_train,y_train)"
      ],
      "execution_count": 191,
      "outputs": [
        {
          "output_type": "execute_result",
          "data": {
            "text/plain": [
              "BaggingClassifier(base_estimator=None, bootstrap=True, bootstrap_features=False,\n",
              "                  max_features=0.5, max_samples=0.5, n_estimators=10,\n",
              "                  n_jobs=None, oob_score=False, random_state=None, verbose=0,\n",
              "                  warm_start=False)"
            ]
          },
          "metadata": {
            "tags": []
          },
          "execution_count": 191
        }
      ]
    },
    {
      "cell_type": "code",
      "metadata": {
        "id": "-1m2v6mxLm96",
        "colab": {
          "base_uri": "https://localhost:8080/"
        },
        "outputId": "ae9a47bb-8ade-40c2-c346-93d35ca44c00"
      },
      "source": [
        "pred=bagging.predict(x_test)#Pred\n",
        "print(' prediction \\n',pred)#print the predicted Value \n",
        "bagging=print('accuracy score\\n',accuracy_score(pred,y_test))#Accuracy SCore \n",
        "print('confusion metrix\\n',confusion_matrix(pred,y_test))#Confusion metrix\n",
        "print('classification Report \\n',classification_report(pred,y_test))#Classsifiaction Report "
      ],
      "execution_count": 192,
      "outputs": [
        {
          "output_type": "stream",
          "text": [
            " prediction \n",
            " [0 0 1 ... 0 0 0]\n",
            "accuracy score\n",
            " 0.8085256049521665\n",
            "confusion metrix\n",
            " [[10442  2235]\n",
            " [  487  1052]]\n",
            "classification Report \n",
            "               precision    recall  f1-score   support\n",
            "\n",
            "           0       0.96      0.82      0.88     12677\n",
            "           1       0.32      0.68      0.44      1539\n",
            "\n",
            "    accuracy                           0.81     14216\n",
            "   macro avg       0.64      0.75      0.66     14216\n",
            "weighted avg       0.89      0.81      0.84     14216\n",
            "\n"
          ],
          "name": "stdout"
        }
      ]
    },
    {
      "cell_type": "code",
      "metadata": {
        "id": "Ee4Cg0y6Lwsw",
        "colab": {
          "base_uri": "https://localhost:8080/"
        },
        "outputId": "48a0e2e2-f41c-4c7d-e96a-f5075d2ccd94"
      },
      "source": [
        "from sklearn.ensemble import GradientBoostingClassifier\n",
        "GBC = GradientBoostingClassifier(n_estimators=200,learning_rate=.02)\n",
        "GBC.fit(x_train,y_train)"
      ],
      "execution_count": 193,
      "outputs": [
        {
          "output_type": "execute_result",
          "data": {
            "text/plain": [
              "GradientBoostingClassifier(ccp_alpha=0.0, criterion='friedman_mse', init=None,\n",
              "                           learning_rate=0.02, loss='deviance', max_depth=3,\n",
              "                           max_features=None, max_leaf_nodes=None,\n",
              "                           min_impurity_decrease=0.0, min_impurity_split=None,\n",
              "                           min_samples_leaf=1, min_samples_split=2,\n",
              "                           min_weight_fraction_leaf=0.0, n_estimators=200,\n",
              "                           n_iter_no_change=None, presort='deprecated',\n",
              "                           random_state=None, subsample=1.0, tol=0.0001,\n",
              "                           validation_fraction=0.1, verbose=0,\n",
              "                           warm_start=False)"
            ]
          },
          "metadata": {
            "tags": []
          },
          "execution_count": 193
        }
      ]
    },
    {
      "cell_type": "code",
      "metadata": {
        "id": "dYVwEPt0L-KR",
        "colab": {
          "base_uri": "https://localhost:8080/"
        },
        "outputId": "de17f8ee-13af-4893-962c-092813c5c37e"
      },
      "source": [
        "pred=GBC.predict(x_test)#Pred\n",
        "print(' prediction \\n',pred)#print the predicted Value \n",
        "GBC=print('accuracy score\\n',accuracy_score(pred,y_test))#Accuracy SCore \n",
        "print('confusion metrix\\n',confusion_matrix(pred,y_test))#Confusion metrix\n",
        "print('classification Report \\n',classification_report(pred,y_test))#Classsifiaction Report "
      ],
      "execution_count": 194,
      "outputs": [
        {
          "output_type": "stream",
          "text": [
            " prediction \n",
            " [1 0 1 ... 1 0 1]\n",
            "accuracy score\n",
            " 0.8485509285312324\n",
            "confusion metrix\n",
            " [[10466  1690]\n",
            " [  463  1597]]\n",
            "classification Report \n",
            "               precision    recall  f1-score   support\n",
            "\n",
            "           0       0.96      0.86      0.91     12156\n",
            "           1       0.49      0.78      0.60      2060\n",
            "\n",
            "    accuracy                           0.85     14216\n",
            "   macro avg       0.72      0.82      0.75     14216\n",
            "weighted avg       0.89      0.85      0.86     14216\n",
            "\n"
          ],
          "name": "stdout"
        }
      ]
    },
    {
      "cell_type": "code",
      "metadata": {
        "id": "HqYrBxRI-yi5",
        "colab": {
          "base_uri": "https://localhost:8080/"
        },
        "outputId": "f2106926-8f9f-4c4b-ca4c-a20d7241815e"
      },
      "source": [
        "from sklearn.externals import joblib#For Saving the Best model Joblib \n",
        "joblib.dump(GBC,'census.pkl')"
      ],
      "execution_count": 198,
      "outputs": [
        {
          "output_type": "execute_result",
          "data": {
            "text/plain": [
              "['census.pkl']"
            ]
          },
          "metadata": {
            "tags": []
          },
          "execution_count": 198
        }
      ]
    }
  ]
}